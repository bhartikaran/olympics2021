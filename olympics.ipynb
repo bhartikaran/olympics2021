{
 "cells": [
  {
   "cell_type": "code",
   "execution_count": 6,
   "id": "e278bea6-3499-4dab-a8c8-81a270a6cb2d",
   "metadata": {},
   "outputs": [
    {
     "name": "stdout",
     "output_type": "stream",
     "text": [
      "Converted: C:\\Users\\A490629\\OneDrive - Volvo Group\\Onedrive_Volvo\\Projects\\olympics_2021\\Athletes.xlsx to C:\\Users\\A490629\\OneDrive - Volvo Group\\Onedrive_Volvo\\Projects\\olympics_2021\\Athletes.csv\n",
      "Converted: C:\\Users\\A490629\\OneDrive - Volvo Group\\Onedrive_Volvo\\Projects\\olympics_2021\\Coaches.xlsx to C:\\Users\\A490629\\OneDrive - Volvo Group\\Onedrive_Volvo\\Projects\\olympics_2021\\Coaches.csv\n",
      "Converted: C:\\Users\\A490629\\OneDrive - Volvo Group\\Onedrive_Volvo\\Projects\\olympics_2021\\EntriesGender.xlsx to C:\\Users\\A490629\\OneDrive - Volvo Group\\Onedrive_Volvo\\Projects\\olympics_2021\\EntriesGender.csv\n",
      "Converted: C:\\Users\\A490629\\OneDrive - Volvo Group\\Onedrive_Volvo\\Projects\\olympics_2021\\Medals.xlsx to C:\\Users\\A490629\\OneDrive - Volvo Group\\Onedrive_Volvo\\Projects\\olympics_2021\\Medals.csv\n",
      "Converted: C:\\Users\\A490629\\OneDrive - Volvo Group\\Onedrive_Volvo\\Projects\\olympics_2021\\Teams.xlsx to C:\\Users\\A490629\\OneDrive - Volvo Group\\Onedrive_Volvo\\Projects\\olympics_2021\\Teams.csv\n",
      "Conversion complete!\n"
     ]
    },
    {
     "name": "stderr",
     "output_type": "stream",
     "text": [
      "C:\\Users\\A490629\\AppData\\Local\\Programs\\Python\\Python312\\Lib\\site-packages\\openpyxl\\styles\\stylesheet.py:237: UserWarning: Workbook contains no default style, apply openpyxl's default\n",
      "  warn(\"Workbook contains no default style, apply openpyxl's default\")\n",
      "C:\\Users\\A490629\\AppData\\Local\\Programs\\Python\\Python312\\Lib\\site-packages\\openpyxl\\styles\\stylesheet.py:237: UserWarning: Workbook contains no default style, apply openpyxl's default\n",
      "  warn(\"Workbook contains no default style, apply openpyxl's default\")\n"
     ]
    }
   ],
   "source": [
    "import os\n",
    "import pandas as pd\n",
    "\n",
    "# Specify the directory containing .xlsx files\n",
    "directory = os.getcwd()\n",
    "\n",
    "\n",
    "# Iterate through all files in the directory\n",
    "for filename in os.listdir(directory):\n",
    "    if filename.endswith(\".xlsx\"):\n",
    "        # Full path to the .xlsx file\n",
    "        xlsx_path = os.path.join(directory, filename)\n",
    "        \n",
    "        # Read the Excel file\n",
    "        try:\n",
    "            df = pd.read_excel(xlsx_path)\n",
    "            \n",
    "            # Define the output CSV file path\n",
    "            csv_filename = os.path.splitext(filename)[0] + \".csv\"\n",
    "            csv_path = os.path.join(directory, csv_filename)\n",
    "            \n",
    "            # Save as CSV\n",
    "            df.to_csv(csv_path, index=False)\n",
    "            print(f\"Converted: {xlsx_path} to {csv_path}\")\n",
    "        except Exception as e:\n",
    "            print(f\"Failed to convert {xlsx_path}: {e}\")\n",
    "\n",
    "print(\"Conversion complete!\")\n"
   ]
  }
 ],
 "metadata": {
  "kernelspec": {
   "display_name": "Python 3 (ipykernel)",
   "language": "python",
   "name": "python3"
  },
  "language_info": {
   "codemirror_mode": {
    "name": "ipython",
    "version": 3
   },
   "file_extension": ".py",
   "mimetype": "text/x-python",
   "name": "python",
   "nbconvert_exporter": "python",
   "pygments_lexer": "ipython3",
   "version": "3.12.0"
  }
 },
 "nbformat": 4,
 "nbformat_minor": 5
}
