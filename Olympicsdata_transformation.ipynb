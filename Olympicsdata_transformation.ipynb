{
 "cells": [
  {
   "cell_type": "code",
   "execution_count": 0,
   "metadata": {
    "application/vnd.databricks.v1+cell": {
     "cellMetadata": {},
     "inputWidgets": {},
     "nuid": "060d63ff-c605-474f-a5e1-10e0ba3b2752",
     "showTitle": false,
     "tableResultSettingsMap": {},
     "title": ""
    }
   },
   "outputs": [],
   "source": [
    "configs = {\n",
    "    \"fs.azure.account.auth.type\": \"OAuth\",\n",
    "    \"fs.azure.account.oauth.provider.type\": \"org.apache.hadoop.fs.azurebfs.oauth2.ClientCredsTokenProvider\",\n",
    "    \"fs.azure.account.oauth2.client.id\": \"<client-id>\",\n",
    "    \"fs.azure.account.oauth2.client.secret\": \"<client-secret>\",\n",
    "    \"fs.azure.account.oauth2.client.endpoint\": \"https://login.microsoftonline.com/<tenant-id>/oauth2/token\"\n",
    "}\n",
    "\n",
    "# Replace <storage-account-name> and <container-name> with your details\n",
    "dbutils.fs.mount(\n",
    "    source = \"abfss://<container-name>@<storage-account-name>.dfs.core.windows.net/\",\n",
    "    mount_point = \"/mnt/datalake\",\n",
    "    extra_configs = configs\n",
    ")\n"
   ]
  },
  {
   "cell_type": "code",
   "execution_count": 0,
   "metadata": {
    "application/vnd.databricks.v1+cell": {
     "cellMetadata": {
      "byteLimit": 2048000,
      "rowLimit": 10000
     },
     "inputWidgets": {},
     "nuid": "05497b2a-7ea3-426a-8278-ef983c7f2618",
     "showTitle": false,
     "tableResultSettingsMap": {},
     "title": ""
    }
   },
   "outputs": [],
   "source": [
    "list_of_files = ['athelete.csv', 'coaches.csv', 'gender.csv', 'medals.csv', 'teams.csv']\n",
    "\n",
    "# List of DataFrames\n",
    "dfs = [spark.read.format(\"csv\")\n",
    "                .option(\"header\", \"true\")\n",
    "                .option(\"inferSchema\", \"true\")\n",
    "                .load(f\"/mnt/datalake/raw_data/{file}\") for file in list_of_files]"
   ]
  },
  {
   "cell_type": "code",
   "execution_count": 0,
   "metadata": {
    "application/vnd.databricks.v1+cell": {
     "cellMetadata": {
      "byteLimit": 2048000,
      "rowLimit": 10000
     },
     "inputWidgets": {},
     "nuid": "55ccb43e-b509-4bab-ad73-6042d96c8c00",
     "showTitle": false,
     "tableResultSettingsMap": {},
     "title": ""
    }
   },
   "outputs": [],
   "source": [
    "# Function to rename column if it contains 'NOC'\n",
    "def rename_column_if_contains(df, substring, new_name):\n",
    "    for column in df.columns:\n",
    "        if substring in column:  # Check if column name contains 'NOC'\n",
    "            return df.withColumnRenamed(column, new_name)\n",
    "    return df  # Return the original DataFrame if no column matches\n"
   ]
  },
  {
   "cell_type": "code",
   "execution_count": 0,
   "metadata": {
    "application/vnd.databricks.v1+cell": {
     "cellMetadata": {
      "byteLimit": 2048000,
      "rowLimit": 10000
     },
     "inputWidgets": {},
     "nuid": "2cbe120b-12ee-4f9d-b9bc-bae6d4d53c3c",
     "showTitle": false,
     "tableResultSettingsMap": {},
     "title": ""
    }
   },
   "outputs": [],
   "source": [
    "athelete_df,coaches_df,gender_df,medals_df,teams_df = [rename_column_if_contains(df, 'NOC', 'Country') for df in dfs]"
   ]
  },
  {
   "cell_type": "code",
   "execution_count": 0,
   "metadata": {
    "application/vnd.databricks.v1+cell": {
     "cellMetadata": {
      "byteLimit": 2048000,
      "rowLimit": 10000
     },
     "inputWidgets": {},
     "nuid": "8a488743-86ef-420d-a40d-96c4dbc5f803",
     "showTitle": false,
     "tableResultSettingsMap": {},
     "title": ""
    }
   },
   "outputs": [
    {
     "output_type": "stream",
     "name": "stdout",
     "output_type": "stream",
     "text": [
      "root\n |-- Rank: integer (nullable = true)\n |-- Country: string (nullable = true)\n |-- Gold: integer (nullable = true)\n |-- Silver: integer (nullable = true)\n |-- Bronze: integer (nullable = true)\n |-- Total: integer (nullable = true)\n |-- Rank by Total: integer (nullable = true)\n\n"
     ]
    }
   ],
   "source": [
    "# Print schema of any DataFrame\n",
    "medals_df.printSchema()"
   ]
  },
  {
   "cell_type": "code",
   "execution_count": 0,
   "metadata": {
    "application/vnd.databricks.v1+cell": {
     "cellMetadata": {
      "byteLimit": 2048000,
      "rowLimit": 10000
     },
     "inputWidgets": {},
     "nuid": "142f5860-e2ff-4044-b455-6ca89563b781",
     "showTitle": false,
     "tableResultSettingsMap": {},
     "title": ""
    }
   },
   "outputs": [],
   "source": [
    "import pyspark.sql.functions as F\n"
   ]
  },
  {
   "cell_type": "code",
   "execution_count": 0,
   "metadata": {
    "application/vnd.databricks.v1+cell": {
     "cellMetadata": {
      "byteLimit": 2048000,
      "rowLimit": 10000
     },
     "inputWidgets": {},
     "nuid": "9f6d33b4-56a7-432b-b741-ea448b69e258",
     "showTitle": false,
     "tableResultSettingsMap": {},
     "title": ""
    }
   },
   "outputs": [
    {
     "output_type": "stream",
     "name": "stdout",
     "output_type": "stream",
     "text": [
      "+--------------------------+----+\n|Country                   |Gold|\n+--------------------------+----+\n|United States of America  |39  |\n|People's Republic of China|38  |\n|Japan                     |27  |\n|Great Britain             |22  |\n|ROC                       |20  |\n|Australia                 |17  |\n|Netherlands               |10  |\n|France                    |10  |\n|Germany                   |10  |\n|Italy                     |10  |\n|Cuba                      |7   |\n|New Zealand               |7   |\n|Brazil                    |7   |\n|Canada                    |7   |\n|Hungary                   |6   |\n|Republic of Korea         |6   |\n|Kenya                     |4   |\n|Poland                    |4   |\n|Czech Republic            |4   |\n|Norway                    |4   |\n+--------------------------+----+\nonly showing top 20 rows\n\n"
     ]
    }
   ],
   "source": [
    "# Countries by number of gold medals\n",
    "medals_df.orderBy(\"Gold\", ascending=False).select(\"Country\",\"Gold\").show(truncate=False)"
   ]
  },
  {
   "cell_type": "code",
   "execution_count": 0,
   "metadata": {
    "application/vnd.databricks.v1+cell": {
     "cellMetadata": {
      "byteLimit": 2048000,
      "rowLimit": 10000
     },
     "inputWidgets": {},
     "nuid": "c4f3d1de-c95f-49cb-a716-d42c832c8d81",
     "showTitle": false,
     "tableResultSettingsMap": {},
     "title": ""
    }
   },
   "outputs": [
    {
     "output_type": "stream",
     "name": "stdout",
     "output_type": "stream",
     "text": [
      "+-----------------------+------------------------+-------------------+\n|Name                   |Country                 |Discipline         |\n+-----------------------+------------------------+-------------------+\n|AALERUD Katrine        |Norway                  |Cycling Road       |\n|ABAD Nestor            |Spain                   |Artistic Gymnastics|\n|ABAGNALE Giovanni      |Italy                   |Rowing             |\n|ABALDE Alberto         |Spain                   |Basketball         |\n|ABALDE Tamara          |Spain                   |Basketball         |\n|ABALO Luc              |France                  |Handball           |\n|ABAROA Cesar           |Chile                   |Rowing             |\n|ABASS Abobakr          |Sudan                   |Swimming           |\n|ABBASALI Hamideh       |Islamic Republic of Iran|Karate             |\n|ABBASOV Islam          |Azerbaijan              |Wrestling          |\n|ABBINGH Lois           |Netherlands             |Handball           |\n|ABBOT Emily            |Australia               |Rhythmic Gymnastics|\n|ABBOTT Monica          |United States of America|Baseball/Softball  |\n|ABDALLA Abubaker Haydar|Qatar                   |Athletics          |\n|ABDALLA Maryam         |Egypt                   |Artistic Swimming  |\n|ABDALLAH Shahd         |Egypt                   |Artistic Swimming  |\n|ABDALRASOOL Mohamed    |Sudan                   |Judo               |\n|ABDEL LATIF Radwa      |Egypt                   |Shooting           |\n|ABDEL RAZEK Samy       |Egypt                   |Shooting           |\n|ABDELAZIZ Abdalla      |Egypt                   |Karate             |\n+-----------------------+------------------------+-------------------+\nonly showing top 20 rows\n\n"
     ]
    }
   ],
   "source": [
    "# View a sample of the athelete data\n",
    "athelete_df.show(truncate=False)"
   ]
  },
  {
   "cell_type": "code",
   "execution_count": 0,
   "metadata": {
    "application/vnd.databricks.v1+cell": {
     "cellMetadata": {
      "byteLimit": 2048000,
      "rowLimit": 10000
     },
     "inputWidgets": {},
     "nuid": "49c4dd6e-939e-4ebb-8ab9-d07431c1c224",
     "showTitle": false,
     "tableResultSettingsMap": {},
     "title": ""
    }
   },
   "outputs": [
    {
     "output_type": "stream",
     "name": "stdout",
     "output_type": "stream",
     "text": [
      "+--------------------------+-----------------+-----+\n|Country                   |Discipline       |count|\n+--------------------------+-----------------+-----+\n|United States of America  |Athletics        |144  |\n|Germany                   |Athletics        |95   |\n|Great Britain             |Athletics        |75   |\n|Italy                     |Athletics        |73   |\n|Japan                     |Athletics        |70   |\n|France                    |Athletics        |66   |\n|Australia                 |Athletics        |65   |\n|Poland                    |Athletics        |64   |\n|Spain                     |Athletics        |58   |\n|Canada                    |Athletics        |56   |\n|Jamaica                   |Athletics        |54   |\n|Brazil                    |Athletics        |53   |\n|People's Republic of China|Athletics        |53   |\n|Ukraine                   |Athletics        |48   |\n|Netherlands               |Athletics        |44   |\n|Ethiopia                  |Athletics        |39   |\n|New Zealand               |Football         |39   |\n|Kenya                     |Athletics        |37   |\n|Mexico                    |Baseball/Softball|37   |\n|India                     |Hockey           |35   |\n+--------------------------+-----------------+-----+\nonly showing top 20 rows\n\n"
     ]
    }
   ],
   "source": [
    "from pyspark.sql.window import Window\n",
    "# Calculate most popular entries by each country\n",
    "# Step 1: Count occurrences of each discipline by country\n",
    "discipline_counts = (\n",
    "    athelete_df.groupBy(\"Country\", \"Discipline\")\n",
    "      .agg(F.count(\"*\").alias(\"count\"))\n",
    ")\n",
    "\n",
    "# Step 2: Use a window function to find the discipline with the maximum count per country\n",
    "window_spec = Window.partitionBy(\"Country\").orderBy(F.col(\"count\").desc())\n",
    "\n",
    "most_popular = (\n",
    "    discipline_counts.withColumn(\"rank\", F.row_number().over(window_spec))\n",
    "                     .filter(F.col(\"rank\") == 1)  # Select the top discipline for each country\n",
    "                     .drop(\"rank\")\n",
    ")\n",
    "\n",
    "# Show Results\n",
    "most_popular.orderBy(\"Count\", ascending=False).show(truncate=False)"
   ]
  },
  {
   "cell_type": "code",
   "execution_count": 0,
   "metadata": {
    "application/vnd.databricks.v1+cell": {
     "cellMetadata": {
      "byteLimit": 2048000,
      "rowLimit": 10000
     },
     "inputWidgets": {},
     "nuid": "c9bf132e-d482-4a99-9158-88111f7ac589",
     "showTitle": false,
     "tableResultSettingsMap": {},
     "title": ""
    }
   },
   "outputs": [],
   "source": [
    "transformed_data_path = \"/mnt/datalake/transformed_data\"\n",
    "# save all the df to parquet in tranformed data folder\n",
    "for i in range(len(dfs)):\n",
    "    dfs[i].repartition(1).write.mode(\"overwrite\").parquet(f\"{transformed_data_path}/{list_of_files[i].split('.')[0]}.parquet\")"
   ]
  }
 ],
 "metadata": {
  "application/vnd.databricks.v1+notebook": {
   "dashboards": [],
   "environmentMetadata": {
    "base_environment": "",
    "client": "1"
   },
   "language": "python",
   "notebookMetadata": {
    "mostRecentlyExecutedCommandWithImplicitDF": {
     "commandId": 3035957319529028,
     "dataframes": [
      "_sqldf"
     ]
    },
    "pythonIndentUnit": 4
   },
   "notebookName": "Olympicsdata_transformation",
   "widgets": {}
  },
  "language_info": {
   "name": "python"
  }
 },
 "nbformat": 4,
 "nbformat_minor": 0
}